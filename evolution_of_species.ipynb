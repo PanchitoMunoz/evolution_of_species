{
 "nbformat": 4,
 "nbformat_minor": 0,
 "metadata": {
  "colab": {
   "name": "evolution_of_species.ipynb",
   "provenance": [],
   "include_colab_link": true
  },
  "language_info": {
   "name": "python"
  },
  "kernelspec": {
   "name": "python3",
   "language": "python",
   "display_name": "Python 3"
  }
 },
 "cells": [
  {
   "cell_type": "markdown",
   "metadata": {
    "id": "view-in-github",
    "colab_type": "text"
   },
   "source": [
    "<a href=\"https://colab.research.google.com/github/asolnn2a8/evolution_of_species/blob/master/evolution_of_species.ipynb\" target=\"_parent\"><img src=\"https://colab.research.google.com/assets/colab-badge.svg\" alt=\"Open In Colab\"/></a>"
   ]
  },
  {
   "cell_type": "markdown",
   "metadata": {
    "id": "DBaQofZRiUCP"
   },
   "source": [
    "# Importar y configurar repositorio `evolution_of_species`\n",
    "\n",
    "Estas celdas es para importar la librería desde GitHub y que se mantenga actualizado. Hay que descomentar las líneas\n",
    " si se utiliza desde google colab."
   ]
  },
  {
   "cell_type": "code",
   "metadata": {
    "id": "Uxgx-h6vkCbM",
    "outputId": "fa78641f-5ba7-4a9f-e5d4-b00a4a86272d",
    "colab": {
     "base_uri": "https://localhost:8080/"
    }
   },
   "source": [
    "# !git clone https://github.com/asolnn2a8/evolution_of_species.git\n",
    "# %cd evolution_of_species"
   ],
   "execution_count": 1,
   "outputs": []
  },
  {
   "cell_type": "code",
   "metadata": {
    "id": "0JhIrfI_mT8L",
    "outputId": "09c62760-dae2-433e-c5de-a5f8f05a765c",
    "colab": {
     "base_uri": "https://localhost:8080/"
    }
   },
   "source": [
    "# !git pull origin master"
   ],
   "execution_count": 2,
   "outputs": []
  },
  {
   "cell_type": "code",
   "metadata": {
    "id": "SdJjVtsYmXH2",
    "outputId": "a040fe95-ce67-401f-ab1d-94dee0ff4dda",
    "colab": {
     "base_uri": "https://localhost:8080/"
    }
   },
   "source": [
    "# !pip install -r requirements.txt"
   ],
   "execution_count": 3,
   "outputs": []
  },
  {
   "cell_type": "code",
   "metadata": {
    "id": "wOSypJ-7miZu",
    "outputId": "90a7fa3d-aa50-4253-9000-35182df5a2ea",
    "colab": {
     "base_uri": "https://localhost:8080/"
    }
   },
   "source": [
    "# !python setup.py install"
   ],
   "execution_count": 4,
   "outputs": []
  },
  {
   "cell_type": "markdown",
   "metadata": {
    "id": "YAoNeei9miG2"
   },
   "source": [
    "# Importaciones"
   ]
  },
  {
   "cell_type": "code",
   "metadata": {
    "id": "93xdoAPTpH0T",
    "outputId": "7845a7f1-30b5-4a77-e7c3-84920fe1e2a7",
    "colab": {
     "base_uri": "https://localhost:8080/"
    }
   },
   "source": [
    "from perthame_edp.model.solver import solve_perthame\n",
    "import numpy as np\n",
    "\n",
    "x_lims = None  # (-4, 5)\n",
    "y_lims = (-1, 2)\n",
    "N = 100  # None  # 100\n",
    "M = 110\n",
    "dt = None  # 0.02\n",
    "T = 120\n",
    "\n",
    "CONFIG_LIMITES = {\n",
    "    \"x_lims\": x_lims,\n",
    "    \"y_lims\": y_lims,\n",
    "    \"N\": N,\n",
    "    \"M\": M,\n",
    "    \"dt\": dt,\n",
    "    \"T\": T\n",
    "}\n",
    "\n",
    "M_1_CONST, M_2_CONST = 0.5, 1.\n",
    "EPS = 0.001\n",
    "SIG_K, SIG_IN = 0.6, 1.\n",
    "R_CONST = 1.\n",
    "M_IN = 3.\n",
    "U_MAX, MU_U, SIG_U = 1., 0.25, 1.\n",
    "R_MAX, MU_R, SIG_R = 5., -0.25, 1.\n",
    "\n",
    "\n",
    "def K(x, y, sig_K=SIG_K) -> float:\n",
    "    num = np.exp(- (x - y) ** 2 / (2 * sig_K ** 2))\n",
    "    den = sig_K * np.sqrt(2 * np.pi)\n",
    "    return num / den\n",
    "\n",
    "\n",
    "def R_in(y, M_in=M_IN, sig_in=SIG_IN) -> float:\n",
    "    num = M_in * np.exp(- y ** 2 / (2 * sig_in ** 2))\n",
    "    den = sig_in * np.sqrt(2 * np.pi)\n",
    "    return num / den\n",
    "\n",
    "\n",
    "def m_1(x) -> float:\n",
    "    return M_1_CONST\n",
    "\n",
    "\n",
    "def m_2(x) -> float:\n",
    "    return M_2_CONST\n",
    "\n",
    "\n",
    "def r(x) -> float:\n",
    "    return R_CONST\n",
    "\n",
    "\n",
    "# Distribuciones Gaussianas\n",
    "def u_0(x, u_max=U_MAX, mu_u=MU_U, sig_u=SIG_U) -> float:\n",
    "    num = u_max * np.exp(- (x - mu_u) ** 2 / (2 * sig_u ** 2))\n",
    "    den = sig_u * np.sqrt(2 * np.pi)\n",
    "    return num / den\n",
    "\n",
    "\n",
    "def R_0(y, R_max=R_MAX, mu_R=MU_R, sig_R=SIG_R) -> float:\n",
    "    num = R_max * np.exp(- (y - mu_R) ** 2 / (2 * sig_R ** 2))\n",
    "    den = sig_R * np.sqrt(2 * np.pi)\n",
    "    return num / den\n",
    "\n",
    "\n",
    "CONFIG_LIMITES[\"x_lims\"] = (0, 1)\n",
    "\n",
    "u, R = solve_perthame(u_0, R_0, r, R_in, m_1, m_2, K, EPS, **CONFIG_LIMITES)\n",
    "print(u)\n",
    "print(R)"
   ],
   "execution_count": 5,
   "outputs": [
    {
     "name": "stdout",
     "output_type": "stream",
     "text": [
      "SolverU(\n",
      "  N=100, M=110, T=120,\n",
      "  x_lims=(0, 1), y_lims=(-1, 2), T_max=1.20\n",
      "  shape=(121, 102), matrix=\n",
      "  [[0.18264909 0.18947448 0.19638159 ... 0.09556079 0.09084055 0.08627732]\n",
      "   [0.18264909 0.19159022 0.19857051 ... 0.0960312  0.09128049 0.08627732]\n",
      "   [0.18264909 0.19224571 0.19946488 ... 0.09636023 0.09155007 0.08627732]\n",
      "   ...\n",
      "   [0.18264909 0.22576991 0.26231015 ... 0.11932634 0.10384914 0.08627732]\n",
      "   [0.18264909 0.22599353 0.26275637 ... 0.11948316 0.10392733 0.08627732]\n",
      "   [0.18264909 0.22621689 0.26320217 ... 0.11963973 0.10400538 0.08627732]]\n",
      ")\n",
      "SolverRMethod2(\n",
      "  N=100, M=110, T=120,\n",
      "  x_lims=(0, 1), y_lims=(-1, 2), T_max=1.20\n",
      "  shape=(121, 112), matrix=\n",
      "  [[1.50568716 1.5359582  1.56569372 ... 0.17896054 0.16858671 0.15869826]\n",
      "   [1.18006912 1.17839552 1.17650771 ... 0.72978047 0.72415568 0.7184537 ]\n",
      "   [1.17999953 1.17831932 1.17642444 ... 0.72974604 0.72412467 0.71842583]\n",
      "   ...\n",
      "   [1.17083785 1.16828865 1.16546638 ... 0.72523972 0.72006633 0.71477852]\n",
      "   [1.17074881 1.16819121 1.16536    ... 0.72519639 0.7200273  0.71474344]\n",
      "   [1.17065961 1.1680936  1.16525342 ... 0.72515298 0.7199882  0.7147083 ]]\n",
      ")\n"
     ]
    }
   ]
  }
 ]
}