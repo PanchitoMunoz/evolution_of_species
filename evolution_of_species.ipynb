{
  "nbformat": 4,
  "nbformat_minor": 0,
  "metadata": {
    "colab": {
      "name": "evolution_of_species.ipynb",
      "provenance": [],
      "include_colab_link": true
    },
    "language_info": {
      "name": "python"
    },
    "kernelspec": {
      "name": "python3",
      "display_name": "Python 3"
    }
  },
  "cells": [
    {
      "cell_type": "markdown",
      "metadata": {
        "id": "view-in-github",
        "colab_type": "text"
      },
      "source": [
        "<a href=\"https://colab.research.google.com/github/asolnn2a8/evolution_of_species/blob/master/evolution_of_species.ipynb\" target=\"_parent\"><img src=\"https://colab.research.google.com/assets/colab-badge.svg\" alt=\"Open In Colab\"/></a>"
      ]
    },
    {
      "cell_type": "markdown",
      "metadata": {
        "id": "DBaQofZRiUCP"
      },
      "source": [
        "# Importar y configurar repositorio `evolution_of_species`\n",
        "\n",
        "Estas celdas es para importar la librería desde GitHub y que se mantenga actualizado"
      ]
    },
    {
      "cell_type": "code",
      "metadata": {
        "id": "Uxgx-h6vkCbM",
        "outputId": "fa78641f-5ba7-4a9f-e5d4-b00a4a86272d",
        "colab": {
          "base_uri": "https://localhost:8080/"
        }
      },
      "source": [
        "!git clone https://github.com/asolnn2a8/evolution_of_species.git\n",
        "%cd evolution_of_species"
      ],
      "execution_count": 1,
      "outputs": [
        {
          "output_type": "stream",
          "text": [
            "fatal: destination path 'evolution_of_species' already exists and is not an empty directory.\n",
            "/content/evolution_of_species\n"
          ],
          "name": "stdout"
        }
      ]
    },
    {
      "cell_type": "code",
      "metadata": {
        "id": "0JhIrfI_mT8L",
        "outputId": "09c62760-dae2-433e-c5de-a5f8f05a765c",
        "colab": {
          "base_uri": "https://localhost:8080/"
        }
      },
      "source": [
        "!git pull origin master"
      ],
      "execution_count": 2,
      "outputs": [
        {
          "output_type": "stream",
          "text": [
            "remote: Enumerating objects: 18, done.\u001b[K\n",
            "remote: Counting objects:   7% (1/14)\u001b[K\rremote: Counting objects:  14% (2/14)\u001b[K\rremote: Counting objects:  21% (3/14)\u001b[K\rremote: Counting objects:  28% (4/14)\u001b[K\rremote: Counting objects:  35% (5/14)\u001b[K\rremote: Counting objects:  42% (6/14)\u001b[K\rremote: Counting objects:  50% (7/14)\u001b[K\rremote: Counting objects:  57% (8/14)\u001b[K\rremote: Counting objects:  64% (9/14)\u001b[K\rremote: Counting objects:  71% (10/14)\u001b[K\rremote: Counting objects:  78% (11/14)\u001b[K\rremote: Counting objects:  85% (12/14)\u001b[K\rremote: Counting objects:  92% (13/14)\u001b[K\rremote: Counting objects: 100% (14/14)\u001b[K\rremote: Counting objects: 100% (14/14), done.\u001b[K\n",
            "remote: Compressing objects:  33% (1/3)\u001b[K\rremote: Compressing objects:  66% (2/3)\u001b[K\rremote: Compressing objects: 100% (3/3)\u001b[K\rremote: Compressing objects: 100% (3/3), done.\u001b[K\n",
            "remote: Total 8 (delta 5), reused 8 (delta 5), pack-reused 0\u001b[K\n",
            "Unpacking objects:  12% (1/8)   \rUnpacking objects:  25% (2/8)   \rUnpacking objects:  37% (3/8)   \rUnpacking objects:  50% (4/8)   \rUnpacking objects:  62% (5/8)   \rUnpacking objects:  75% (6/8)   \rUnpacking objects:  87% (7/8)   \rUnpacking objects: 100% (8/8)   \rUnpacking objects: 100% (8/8), done.\n",
            "From https://github.com/asolnn2a8/evolution_of_species\n",
            " * branch            master     -> FETCH_HEAD\n",
            "   07b3d78..2d3fce7  master     -> origin/master\n",
            "Updating 07b3d78..2d3fce7\n",
            "Fast-forward\n",
            " main.py                      | 40 \u001b[32m+++++\u001b[m\u001b[31m-----------------------------------\u001b[m\n",
            " perthame_edp/model/solver.py | 32 \u001b[32m++++++++++++++++++++++++++++++++\u001b[m\n",
            " 2 files changed, 37 insertions(+), 35 deletions(-)\n"
          ],
          "name": "stdout"
        }
      ]
    },
    {
      "cell_type": "code",
      "metadata": {
        "id": "SdJjVtsYmXH2",
        "outputId": "a040fe95-ce67-401f-ab1d-94dee0ff4dda",
        "colab": {
          "base_uri": "https://localhost:8080/"
        }
      },
      "source": [
        "!pip install -r requirements.txt"
      ],
      "execution_count": 3,
      "outputs": [
        {
          "output_type": "stream",
          "text": [
            "Requirement already satisfied: numpy~=1.20.3 in /usr/local/lib/python3.7/dist-packages (from -r requirements.txt (line 1)) (1.20.3)\n",
            "Requirement already satisfied: setuptools~=57.0.0 in /usr/local/lib/python3.7/dist-packages (from -r requirements.txt (line 2)) (57.0.0)\n",
            "Requirement already satisfied: scipy~=1.6.3 in /usr/local/lib/python3.7/dist-packages (from -r requirements.txt (line 3)) (1.6.3)\n"
          ],
          "name": "stdout"
        }
      ]
    },
    {
      "cell_type": "code",
      "metadata": {
        "id": "wOSypJ-7miZu",
        "outputId": "90a7fa3d-aa50-4253-9000-35182df5a2ea",
        "colab": {
          "base_uri": "https://localhost:8080/"
        }
      },
      "source": [
        "!python setup.py install"
      ],
      "execution_count": 4,
      "outputs": [
        {
          "output_type": "stream",
          "text": [
            "running install\n",
            "running bdist_egg\n",
            "running egg_info\n",
            "writing perthame_edp.egg-info/PKG-INFO\n",
            "writing dependency_links to perthame_edp.egg-info/dependency_links.txt\n",
            "writing requirements to perthame_edp.egg-info/requires.txt\n",
            "writing top-level names to perthame_edp.egg-info/top_level.txt\n",
            "writing manifest file 'perthame_edp.egg-info/SOURCES.txt'\n",
            "installing library code to build/bdist.linux-x86_64/egg\n",
            "running install_lib\n",
            "running build_py\n",
            "copying perthame_edp/model/solver.py -> build/lib/perthame_edp/model\n",
            "creating build/bdist.linux-x86_64/egg\n",
            "creating build/bdist.linux-x86_64/egg/perthame_edp\n",
            "creating build/bdist.linux-x86_64/egg/perthame_edp/utils\n",
            "copying build/lib/perthame_edp/utils/__init__.py -> build/bdist.linux-x86_64/egg/perthame_edp/utils\n",
            "copying build/lib/perthame_edp/utils/validators.py -> build/bdist.linux-x86_64/egg/perthame_edp/utils\n",
            "copying build/lib/perthame_edp/__init__.py -> build/bdist.linux-x86_64/egg/perthame_edp\n",
            "creating build/bdist.linux-x86_64/egg/perthame_edp/model\n",
            "copying build/lib/perthame_edp/model/discrete_function.py -> build/bdist.linux-x86_64/egg/perthame_edp/model\n",
            "copying build/lib/perthame_edp/model/__init__.py -> build/bdist.linux-x86_64/egg/perthame_edp/model\n",
            "copying build/lib/perthame_edp/model/solver.py -> build/bdist.linux-x86_64/egg/perthame_edp/model\n",
            "copying build/lib/perthame_edp/model/integral_functional.py -> build/bdist.linux-x86_64/egg/perthame_edp/model\n",
            "byte-compiling build/bdist.linux-x86_64/egg/perthame_edp/utils/__init__.py to __init__.cpython-37.pyc\n",
            "byte-compiling build/bdist.linux-x86_64/egg/perthame_edp/utils/validators.py to validators.cpython-37.pyc\n",
            "byte-compiling build/bdist.linux-x86_64/egg/perthame_edp/__init__.py to __init__.cpython-37.pyc\n",
            "byte-compiling build/bdist.linux-x86_64/egg/perthame_edp/model/discrete_function.py to discrete_function.cpython-37.pyc\n",
            "byte-compiling build/bdist.linux-x86_64/egg/perthame_edp/model/__init__.py to __init__.cpython-37.pyc\n",
            "byte-compiling build/bdist.linux-x86_64/egg/perthame_edp/model/solver.py to solver.cpython-37.pyc\n",
            "byte-compiling build/bdist.linux-x86_64/egg/perthame_edp/model/integral_functional.py to integral_functional.cpython-37.pyc\n",
            "creating build/bdist.linux-x86_64/egg/EGG-INFO\n",
            "copying perthame_edp.egg-info/PKG-INFO -> build/bdist.linux-x86_64/egg/EGG-INFO\n",
            "copying perthame_edp.egg-info/SOURCES.txt -> build/bdist.linux-x86_64/egg/EGG-INFO\n",
            "copying perthame_edp.egg-info/dependency_links.txt -> build/bdist.linux-x86_64/egg/EGG-INFO\n",
            "copying perthame_edp.egg-info/requires.txt -> build/bdist.linux-x86_64/egg/EGG-INFO\n",
            "copying perthame_edp.egg-info/top_level.txt -> build/bdist.linux-x86_64/egg/EGG-INFO\n",
            "zip_safe flag not set; analyzing archive contents...\n",
            "creating 'dist/perthame_edp-0.1.0-py3.7.egg' and adding 'build/bdist.linux-x86_64/egg' to it\n",
            "removing 'build/bdist.linux-x86_64/egg' (and everything under it)\n",
            "Processing perthame_edp-0.1.0-py3.7.egg\n",
            "Removing /usr/local/lib/python3.7/dist-packages/perthame_edp-0.1.0-py3.7.egg\n",
            "Copying perthame_edp-0.1.0-py3.7.egg to /usr/local/lib/python3.7/dist-packages\n",
            "perthame-edp 0.1.0 is already the active version in easy-install.pth\n",
            "\n",
            "Installed /usr/local/lib/python3.7/dist-packages/perthame_edp-0.1.0-py3.7.egg\n",
            "Processing dependencies for perthame-edp==0.1.0\n",
            "Searching for scipy==1.6.3\n",
            "Best match: scipy 1.6.3\n",
            "Adding scipy 1.6.3 to easy-install.pth file\n",
            "\n",
            "Using /usr/local/lib/python3.7/dist-packages\n",
            "Searching for setuptools==57.0.0\n",
            "Best match: setuptools 57.0.0\n",
            "Adding setuptools 57.0.0 to easy-install.pth file\n",
            "\n",
            "Using /usr/local/lib/python3.7/dist-packages\n",
            "Searching for numpy==1.20.3\n",
            "Best match: numpy 1.20.3\n",
            "Adding numpy 1.20.3 to easy-install.pth file\n",
            "Installing f2py script to /usr/local/bin\n",
            "Installing f2py3 script to /usr/local/bin\n",
            "Installing f2py3.7 script to /usr/local/bin\n",
            "\n",
            "Using /usr/local/lib/python3.7/dist-packages\n",
            "Finished processing dependencies for perthame-edp==0.1.0\n"
          ],
          "name": "stdout"
        }
      ]
    },
    {
      "cell_type": "markdown",
      "metadata": {
        "id": "YAoNeei9miG2"
      },
      "source": [
        "# Importaciones"
      ]
    },
    {
      "cell_type": "code",
      "metadata": {
        "id": "93xdoAPTpH0T",
        "outputId": "7845a7f1-30b5-4a77-e7c3-84920fe1e2a7",
        "colab": {
          "base_uri": "https://localhost:8080/"
        }
      },
      "source": [
        "from perthame_edp.model.solver import solve_perthame\n",
        "import numpy as np\n",
        "\n",
        "x_lims = None  # (-4, 5)\n",
        "y_lims = (-1, 2)\n",
        "N = 100  # None  # 100\n",
        "M = 110\n",
        "dt = None  # 0.02\n",
        "T = 120\n",
        "\n",
        "CONFIG_LIMITES = {\n",
        "    \"x_lims\": x_lims,\n",
        "    \"y_lims\": y_lims,\n",
        "    \"N\": N,\n",
        "    \"M\": M,\n",
        "    \"dt\": dt,\n",
        "    \"T\": T\n",
        "}\n",
        "\n",
        "M_1_CONST, M_2_CONST = 0.5, 1.\n",
        "EPS = 0.001\n",
        "SIG_K, SIG_IN = 0.6, 1.\n",
        "R_CONST = 1.\n",
        "M_IN = 3.\n",
        "U_MAX, MU_U, SIG_U = 1., 0.25, 1.\n",
        "R_MAX, MU_R, SIG_R = 5., -0.25, 1.\n",
        "\n",
        "\n",
        "def K(x, y, sig_K=SIG_K) -> float:\n",
        "    num = np.exp(- (x - y) ** 2 / (2 * sig_K ** 2))\n",
        "    den = sig_K * np.sqrt(2 * np.pi)\n",
        "    return num / den\n",
        "\n",
        "\n",
        "def R_in(y, M_in=M_IN, sig_in=SIG_IN) -> float:\n",
        "    num = M_in * np.exp(- y ** 2 / (2 * sig_in ** 2))\n",
        "    den = sig_in * np.sqrt(2 * np.pi)\n",
        "    return num / den\n",
        "\n",
        "\n",
        "def m_1(x) -> float:\n",
        "    return M_1_CONST\n",
        "\n",
        "\n",
        "def m_2(x) -> float:\n",
        "    return M_2_CONST\n",
        "\n",
        "\n",
        "def r(x) -> float:\n",
        "    return R_CONST\n",
        "\n",
        "\n",
        "# Distribuciones Gaussianas\n",
        "def u_0(x, u_max=U_MAX, mu_u=MU_U, sig_u=SIG_U) -> float:\n",
        "    num = u_max * np.exp(- (x - mu_u) ** 2 / (2 * sig_u ** 2))\n",
        "    den = sig_u * np.sqrt(2 * np.pi)\n",
        "    return num / den\n",
        "\n",
        "\n",
        "def R_0(y, R_max=R_MAX, mu_R=MU_R, sig_R=SIG_R) -> float:\n",
        "    num = R_max * np.exp(- (y - mu_R) ** 2 / (2 * sig_R ** 2))\n",
        "    den = sig_R * np.sqrt(2 * np.pi)\n",
        "    return num / den\n",
        "\n",
        "\n",
        "CONFIG_LIMITES[\"x_lims\"] = (0, 1)\n",
        "\n",
        "u, R = solve_perthame(u_0, R_0, r, R_in, m_1, m_2, K, EPS, **CONFIG_LIMITES)\n",
        "print(u)\n",
        "print(R)"
      ],
      "execution_count": 7,
      "outputs": [
        {
          "output_type": "stream",
          "text": [
            "SolverU(\n",
            "  N=100, M=110, T=120,\n",
            "  x_lims=(0, 1), y_lims=(-1, 2), T_max=1.20\n",
            "  shape=(121, 102), matrix=\n",
            "  [[0.18264909 0.18947448 0.19638159 ... 0.09556079 0.09084055 0.08627732]\n",
            "   [0.18264909 0.19159022 0.19857051 ... 0.0960312  0.09128049 0.08627732]\n",
            "   [0.18264909 0.19224571 0.19946488 ... 0.09636023 0.09155007 0.08627732]\n",
            "   ...\n",
            "   [0.18264909 0.22576991 0.26231015 ... 0.11932634 0.10384914 0.08627732]\n",
            "   [0.18264909 0.22599353 0.26275637 ... 0.11948316 0.10392733 0.08627732]\n",
            "   [0.18264909 0.22621689 0.26320217 ... 0.11963973 0.10400538 0.08627732]]\n",
            ")\n",
            "SolverRMethod2(\n",
            "  N=100, M=110, T=120,\n",
            "  x_lims=(0, 1), y_lims=(-1, 2), T_max=1.20\n",
            "  shape=(121, 112), matrix=\n",
            "  [[1.50568716 1.5359582  1.56569372 ... 0.17896054 0.16858671 0.15869826]\n",
            "   [1.18006912 1.17839552 1.17650771 ... 0.72978047 0.72415568 0.7184537 ]\n",
            "   [1.17999953 1.17831932 1.17642444 ... 0.72974604 0.72412467 0.71842583]\n",
            "   ...\n",
            "   [1.17083785 1.16828865 1.16546638 ... 0.72523972 0.72006633 0.71477852]\n",
            "   [1.17074881 1.16819121 1.16536    ... 0.72519639 0.7200273  0.71474344]\n",
            "   [1.17065961 1.1680936  1.16525342 ... 0.72515298 0.7199882  0.7147083 ]]\n",
            ")\n"
          ],
          "name": "stdout"
        }
      ]
    }
  ]
}